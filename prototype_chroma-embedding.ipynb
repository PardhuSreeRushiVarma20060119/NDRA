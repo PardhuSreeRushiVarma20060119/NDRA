{
 "cells": [
  {
   "cell_type": "code",
   "execution_count": 1,
   "id": "fe1b19b0-430d-4212-8f00-88871134a5ec",
   "metadata": {},
   "outputs": [
    {
     "name": "stdout",
     "output_type": "stream",
     "text": [
      "Loaded 481 chunks.\n"
     ]
    }
   ],
   "source": [
    "# Step 1: Load chunks\n",
    "import pickle\n",
    "\n",
    "with open(\"chunks.pkl\", \"rb\") as f:\n",
    "    chunks = pickle.load(f)\n",
    "\n",
    "print(f\"Loaded {len(chunks)} chunks.\")"
   ]
  },
  {
   "cell_type": "code",
   "execution_count": 2,
   "id": "32a87f01-7901-4ce2-8304-7cbf2cc41401",
   "metadata": {},
   "outputs": [
    {
     "data": {
      "application/vnd.jupyter.widget-view+json": {
       "model_id": "a6ee8914ed1841cb945771f4f41a6a4d",
       "version_major": 2,
       "version_minor": 0
      },
      "text/plain": [
       "Batches:   0%|          | 0/16 [00:00<?, ?it/s]"
      ]
     },
     "metadata": {},
     "output_type": "display_data"
    },
    {
     "name": "stdout",
     "output_type": "stream",
     "text": [
      "Generated 481 embeddings.\n"
     ]
    }
   ],
   "source": [
    "# Step 2: Generate embeddings using HuggingFace (e.g. all-MiniLM)\n",
    "from sentence_transformers import SentenceTransformer\n",
    "\n",
    "embedding_model = SentenceTransformer(\"all-MiniLM-L6-v2\")\n",
    "embeddings = embedding_model.encode(chunks, show_progress_bar=True)\n",
    "\n",
    "print(f\"Generated {len(embeddings)} embeddings.\")"
   ]
  },
  {
   "cell_type": "code",
   "execution_count": 4,
   "id": "bdb777f7-cc86-4c9a-913c-21771bceeb2b",
   "metadata": {},
   "outputs": [
    {
     "name": "stdout",
     "output_type": "stream",
     "text": [
      "✅ Chunks + embeddings stored in persistent ChromaDB.\n"
     ]
    }
   ],
   "source": [
    "import chromadb\n",
    "\n",
    "# Connect to the running ChromaDB server\n",
    "chroma_client = chromadb.HttpClient(host=\"localhost\", port=8000)\n",
    "\n",
    "# Create or load collection\n",
    "collection = chroma_client.get_or_create_collection(name=\"ndr_chunks\")\n",
    "\n",
    "# IDs must be strings and unique\n",
    "ids = [f\"chunk-{i}\" for i in range(len(chunks))]\n",
    "\n",
    "# Make sure `embeddings` is a list of list of floats\n",
    "collection.add(\n",
    "    documents=chunks,\n",
    "    embeddings=embeddings.tolist(),  # Convert from numpy to list\n",
    "    ids=ids\n",
    ")\n",
    "\n",
    "print(\"✅ Chunks + embeddings stored in persistent ChromaDB.\")"
   ]
  },
  {
   "cell_type": "code",
   "execution_count": 9,
   "id": "0c9bb4de-34e7-428c-abad-864cd5895d51",
   "metadata": {},
   "outputs": [
    {
     "name": "stdout",
     "output_type": "stream",
     "text": [
      "\n",
      "🔍 Result 1\n",
      "🆔 ID: chunk-120\n",
      "📏 Distance: 0.8198\n",
      "📄 Document:\n",
      "Issuing Office: \n",
      " \n",
      "GLOBAL HEALTH CARE \n",
      " \n",
      " \n",
      " \n",
      "TABLE OF BENEFITS FOR DOMESTIC COVER \n",
      "COVER IMPERIAL PLAN IMPERIAL PLUS PLAN \n",
      "In-patient Hospitalization \n",
      "Treatment Limits \n",
      "INR \n",
      "3,750,000   \n",
      "INR \n",
      "5,600,000  \n",
      "INR \n",
      "7,500,000  \n",
      "INR  \n",
      "11,200,000  \n",
      "INR \n",
      "18,750,000  \n",
      "INR \n",
      "37,500,000  \n",
      "In-patient Hospitalization \n",
      "Treatment Up to Sum Insured \n",
      "Hospital accommodation  \n",
      "(Room rent and ICU) At Actual \n",
      "Pre-hospitalisation 60 days \n",
      "Post-hospitalisation 180 days \n",
      "Local (Road) Ambulance Up to Sum Insured\n",
      "------------------------------------------------------------\n",
      "\n",
      "🔍 Result 2\n",
      "🆔 ID: chunk-338\n",
      "📏 Distance: 0.8393\n",
      "📄 Document:\n",
      "Benefits (Optional cover) and Our liability, if any, shall only be in excess of that sum.  \n",
      "b. If opted, an aggregate Deductible as specified in the Policy Schedule will apply for expenses under Inpatient \n",
      "plan benefits outside India.  \n",
      " \n",
      "29. Cumulative Bonus (For Domestic Cover only):  \n",
      "If You renew Your Global Health Care Policy with Us without any break and there has been no claim in the\n",
      "------------------------------------------------------------\n",
      "\n",
      "🔍 Result 3\n",
      "🆔 ID: chunk-95\n",
      "📏 Distance: 0.9055\n",
      "📄 Document:\n",
      "exclusions contained or otherwise expressed in this Policy. \n",
      " \n",
      "PART A- COVERAGE- Domestic (Within India Only, for Imperial and Imperial Plus Plans) \n",
      " \n",
      "I. IN-PATIENT BENEFITS FOR DOMESTIC COVER \n",
      " \n",
      "1. In-patient Hospitalization Treatment \n",
      "If You are advised Hospitalization within India by a Medical Practitioner as defined under Policy because of Illness \n",
      "or Accidental Bodily Injury sustained or contracted during the Policy Period, then We will pay You, Reasonable and\n",
      "------------------------------------------------------------\n",
      "\n",
      "🔍 Result 4\n",
      "🆔 ID: chunk-339\n",
      "📏 Distance: 0.9174\n",
      "📄 Document:\n",
      "preceding year, We will increase the Limit of Indemnity by 20% of Domestic Cover’s base Sum Insured per annum, \n",
      "but: \n",
      "i. The maximum cumulative increase in the Limit of Indemnity will be limited to 100% of Domestic Cover’s base \n",
      "Sum Insured. \n",
      "ii. This clause does not alter the annual character of this insurance or Our right to decline to renew or to cancel the \n",
      "Policy, under the circumstances described in cancellation clause stated under the Policy\n",
      "------------------------------------------------------------\n",
      "\n",
      "🔍 Result 5\n",
      "🆔 ID: chunk-258\n",
      "📏 Distance: 1.0399\n",
      "📄 Document:\n",
      "SECTION D) EXCLUSIONS– SPECIFIC EXCLUSIONS APPLICABLE TO INTERNATIONAL COVER UNDER \n",
      "SECTION C) BENEFITS COVERED UNDER THE POLICY \n",
      " \n",
      "B. Applicable to Part B-I, B-II, B-III \n",
      "We do not cover the following expenses unless indicated otherwise in the Table of Benefits or in any written Policy \n",
      "endorsement \n",
      "1) Any  Dental Treatment  that comprises of cosmetic surgery, dentures, dental prosthesis, dental implants,\n",
      "------------------------------------------------------------\n"
     ]
    }
   ],
   "source": [
    "from sentence_transformers import SentenceTransformer\n",
    "import chromadb\n",
    "\n",
    "# 1. Load the same embedding model used for chunking\n",
    "embedding_model = SentenceTransformer(\"all-MiniLM-L6-v2\")\n",
    "\n",
    "# 2. Define your query\n",
    "query_text = \"TABLE OF BENEFITS FOR DOMESTIC COVER\"\n",
    "\n",
    "# 3. Embed the query (result is a numpy array)\n",
    "query_embedding = embedding_model.encode(query_text)\n",
    "\n",
    "# 4. Connect to ChromaDB\n",
    "chroma_client = chromadb.HttpClient(host=\"localhost\", port=8000)\n",
    "\n",
    "# 5. Load your persistent collection\n",
    "collection = chroma_client.get_collection(name=\"ndr_chunks\")\n",
    "\n",
    "# 6. Perform semantic search\n",
    "results = collection.query(\n",
    "    query_embeddings=[query_embedding.tolist()],  # Wrapped in a list\n",
    "    n_results=5,\n",
    "    include=[\"documents\", \"distances\"]  # Valid keys only\n",
    ")\n",
    "\n",
    "# 7. Display results\n",
    "for i, doc in enumerate(results[\"documents\"][0]):\n",
    "    print(f\"\\n🔍 Result {i+1}\")\n",
    "    print(f\"🆔 ID: {results['ids'][0][i]}\")\n",
    "    print(f\"📏 Distance: {results['distances'][0][i]:.4f}\")\n",
    "    print(f\"📄 Document:\\n{doc}\")\n",
    "    print(\"-\" * 60)"
   ]
  },
  {
   "cell_type": "code",
   "execution_count": null,
   "id": "df797c3d-d5c1-4b3d-ae92-dfac4d363687",
   "metadata": {},
   "outputs": [],
   "source": []
  }
 ],
 "metadata": {
  "kernelspec": {
   "display_name": "Python (.venv - ndra)",
   "language": "python",
   "name": "ndra"
  },
  "language_info": {
   "codemirror_mode": {
    "name": "ipython",
    "version": 3
   },
   "file_extension": ".py",
   "mimetype": "text/x-python",
   "name": "python",
   "nbconvert_exporter": "python",
   "pygments_lexer": "ipython3",
   "version": "3.11.9"
  }
 },
 "nbformat": 4,
 "nbformat_minor": 5
}
