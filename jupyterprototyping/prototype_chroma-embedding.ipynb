{
 "cells": [
  {
   "cell_type": "code",
   "execution_count": 1,
   "id": "fe1b19b0-430d-4212-8f00-88871134a5ec",
   "metadata": {},
   "outputs": [
    {
     "name": "stdout",
     "output_type": "stream",
     "text": [
      "Loaded 481 chunks.\n"
     ]
    }
   ],
   "source": [
    "# Step 1: Load chunks\n",
    "import pickle\n",
    "\n",
    "with open(\"chunks.pkl\", \"rb\") as f:\n",
    "    chunks = pickle.load(f)\n",
    "\n",
    "print(f\"Loaded {len(chunks)} chunks.\")"
   ]
  },
  {
   "cell_type": "code",
   "execution_count": 2,
   "id": "32a87f01-7901-4ce2-8304-7cbf2cc41401",
   "metadata": {},
   "outputs": [
    {
     "data": {
      "application/vnd.jupyter.widget-view+json": {
       "model_id": "0a719743460f4665aa168e61c639ebbd",
       "version_major": 2,
       "version_minor": 0
      },
      "text/plain": [
       "Batches:   0%|          | 0/16 [00:00<?, ?it/s]"
      ]
     },
     "metadata": {},
     "output_type": "display_data"
    },
    {
     "name": "stdout",
     "output_type": "stream",
     "text": [
      "Generated 481 embeddings.\n"
     ]
    }
   ],
   "source": [
    "# Step 2: Generate embeddings using HuggingFace (e.g. all-MiniLM)\n",
    "from sentence_transformers import SentenceTransformer\n",
    "\n",
    "embedding_model = SentenceTransformer(\"all-MiniLM-L6-v2\")\n",
    "embeddings = embedding_model.encode(chunks, show_progress_bar=True)\n",
    "\n",
    "print(f\"Generated {len(embeddings)} embeddings.\")"
   ]
  },
  {
   "cell_type": "code",
   "execution_count": 3,
   "id": "bdb777f7-cc86-4c9a-913c-21771bceeb2b",
   "metadata": {},
   "outputs": [
    {
     "name": "stdout",
     "output_type": "stream",
     "text": [
      "✅ Chunks + embeddings stored in persistent ChromaDB.\n"
     ]
    }
   ],
   "source": [
    "import chromadb\n",
    "\n",
    "# Connect to the running ChromaDB server\n",
    "chroma_client = chromadb.HttpClient(host=\"localhost\", port=8000)\n",
    "\n",
    "# Create or load collection\n",
    "collection = chroma_client.get_or_create_collection(name=\"ndr_chunks\")\n",
    "\n",
    "# IDs must be strings and unique\n",
    "ids = [f\"chunk-{i}\" for i in range(len(chunks))]\n",
    "\n",
    "# Make sure `embeddings` is a list of list of floats\n",
    "collection.add(\n",
    "    documents=chunks,\n",
    "    embeddings=embeddings.tolist(),  # Convert from numpy to list\n",
    "    ids=ids\n",
    ")\n",
    "\n",
    "print(\"✅ Chunks + embeddings stored in persistent ChromaDB.\")"
   ]
  }
 ],
 "metadata": {
  "kernelspec": {
   "display_name": "Python (.ndravenv)",
   "language": "python",
   "name": "ndra"
  },
  "language_info": {
   "codemirror_mode": {
    "name": "ipython",
    "version": 3
   },
   "file_extension": ".py",
   "mimetype": "text/x-python",
   "name": "python",
   "nbconvert_exporter": "python",
   "pygments_lexer": "ipython3",
   "version": "3.11.9"
  }
 },
 "nbformat": 4,
 "nbformat_minor": 5
}
