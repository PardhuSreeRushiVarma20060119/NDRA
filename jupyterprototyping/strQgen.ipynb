{
 "cells": [
  {
   "cell_type": "code",
   "execution_count": null,
   "id": "0a7d1e93-5d6e-4102-b64d-4cf5c42f848f",
   "metadata": {},
   "outputs": [],
   "source": [
    "# strQgen.ipynb\n",
    "%run ./querygenai.ipynb\n",
    "\n",
    "def classify_intent(query: str) -> str:\n",
    "    intent_keywords = {\n",
    "        \"eligibility_check\": [\"eligible\", \"eligibility\", \"can i\", \"still covered\"],\n",
    "        \"claim_status\": [\"claim status\", \"track claim\", \"claim update\"],\n",
    "        \"coverage_check\": [\"covered\", \"coverage\", \"what is included\"],\n",
    "        \"renewal\": [\"renew\", \"extension\", \"renewal\"],\n",
    "        \"premium_info\": [\"premium\", \"cost\", \"price\", \"installment\"],\n",
    "        \"document_requirement\": [\"documents\", \"papers\", \"required for\"],\n",
    "    }\n",
    "\n",
    "    query_lower = query.lower()\n",
    "    for intent, keywords in intent_keywords.items():\n",
    "        if any(kw in query_lower for kw in keywords):\n",
    "            return intent\n",
    "    return \"general_inquiry\""
   ]
  },
  {
   "cell_type": "code",
   "execution_count": 2,
   "id": "74944abd-695c-4e50-9df9-a1d5d542e497",
   "metadata": {},
   "outputs": [],
   "source": [
    "def extract_structured_entities(query: str) -> dict:\n",
    "    import re\n",
    "\n",
    "    entities = {}\n",
    "\n",
    "    # Incident or procedure keywords\n",
    "    if \"accident\" in query.lower():\n",
    "        entities[\"incident\"] = \"accident\"\n",
    "    elif \"surgery\" in query.lower():\n",
    "        entities[\"incident\"] = \"surgery\"\n",
    "\n",
    "    # Time-related info (basic pattern)\n",
    "    time_match = re.search(r\"(last month|[0-9]+\\s+(days?|months?|years?)\\s+ago)\", query.lower())\n",
    "    if time_match:\n",
    "        entities[\"incident_time\"] = time_match.group(1)\n",
    "\n",
    "    # Policy status\n",
    "    if \"new policy\" in query.lower():\n",
    "        entities[\"policy_status\"] = \"new\"\n",
    "    elif \"old policy\" in query.lower() or \"existing policy\" in query.lower():\n",
    "        entities[\"policy_status\"] = \"existing\"\n",
    "    \n",
    "    return entities"
   ]
  },
  {
   "cell_type": "code",
   "execution_count": 3,
   "id": "3da800e9-696d-49b2-877a-156d8d136768",
   "metadata": {},
   "outputs": [],
   "source": [
    "def build_structured_query(info: dict, rewritten_query: str, raw_query: str) -> dict:\n",
    "    structured = {\n",
    "        \"original_query\": raw_query,\n",
    "        \"rewritten_query\": rewritten_query,\n",
    "        \"intent\": classify_intent(raw_query),\n",
    "        \"subject\": info.get(\"subject\"),\n",
    "        \"age\": info.get(\"age\"),\n",
    "        \"gender\": info.get(\"gender\"),\n",
    "        \"procedure\": info.get(\"procedure\"),\n",
    "        \"location\": info.get(\"location\"),\n",
    "        \"policy_duration\": info.get(\"policy_duration\"),\n",
    "        \"extracted_entities\": extract_structured_entities(raw_query)\n",
    "    }\n",
    "    return structured"
   ]
  },
  {
   "cell_type": "code",
   "execution_count": 4,
   "id": "688c7150-8f14-4cff-95a6-d094443b0a78",
   "metadata": {},
   "outputs": [],
   "source": [
    "def compute_completeness_score(structured_query: dict) -> float:\n",
    "    fields = [\"subject\", \"age\", \"gender\", \"procedure\", \"location\", \"policy_duration\"]\n",
    "    filled = sum(1 for field in fields if structured_query.get(field))\n",
    "    score = filled / len(fields)\n",
    "    return round(score, 2)"
   ]
  },
  {
   "cell_type": "code",
   "execution_count": 5,
   "id": "17eaa533-5bba-48ee-8f42-2fa8c3ea88b7",
   "metadata": {},
   "outputs": [
    {
     "name": "stdout",
     "output_type": "stream",
     "text": [
      "{'original_query': 'bike accident last month… still eligible for vehicle insurance?', 'rewritten_query': 'Can the vehicle be insured? Based on the context: bike accident last month… still eligible for vehicle insurance. Eligibility may depend on vehicle condition, registration location, and past claims history. Check coverage for accidents, third-party liability, own damage, and add-ons like zero depreciation.', 'intent': 'eligibility_check', 'subject': 'vehicle insurance', 'age': None, 'gender': None, 'procedure': None, 'location': None, 'policy_duration': None, 'extracted_entities': {'incident': 'accident', 'incident_time': 'last month'}}\n",
      "Completeness Score: 0.17\n"
     ]
    }
   ],
   "source": [
    "query = \"bike accident last month… still eligible for vehicle insurance?\"\n",
    "info = extract_query_info_llm(query)\n",
    "rewritten = rewrite_query(info, query)\n",
    "structured = build_structured_query(info, rewritten, query)\n",
    "\n",
    "print(structured)\n",
    "print(\"Completeness Score:\", compute_completeness_score(structured))"
   ]
  },
  {
   "cell_type": "code",
   "execution_count": null,
   "id": "309dc9a7-46c6-4b9e-a1ce-854b3fa51a84",
   "metadata": {},
   "outputs": [],
   "source": []
  }
 ],
 "metadata": {
  "kernelspec": {
   "display_name": "Python (.ndravenv)",
   "language": "python",
   "name": "ndra"
  },
  "language_info": {
   "codemirror_mode": {
    "name": "ipython",
    "version": 3
   },
   "file_extension": ".py",
   "mimetype": "text/x-python",
   "name": "python",
   "nbconvert_exporter": "python",
   "pygments_lexer": "ipython3",
   "version": "3.11.9"
  }
 },
 "nbformat": 4,
 "nbformat_minor": 5
}
