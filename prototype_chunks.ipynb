{
 "cells": [
  {
   "cell_type": "code",
   "execution_count": 10,
   "id": "23b35a44-faba-4a31-a5cc-47c9d9e7d643",
   "metadata": {},
   "outputs": [],
   "source": [
    "# Step 1: Import dependencies\n",
    "from pypdf import PdfReader\n",
    "from docx import Document\n",
    "import os\n",
    "import pickle\n",
    "from langchain.text_splitter import RecursiveCharacterTextSplitter\n"
   ]
  },
  {
   "cell_type": "code",
   "execution_count": 11,
   "id": "37a4fad0-6a4c-4706-b2f7-a8025f01de4e",
   "metadata": {},
   "outputs": [],
   "source": [
    "def load_file(file_path: str) -> str:\n",
    "    ext = os.path.splitext(file_path)[1].lower()\n",
    "    if ext == '.pdf':\n",
    "        reader = PdfReader(file_path)\n",
    "        return \"\\n\".join([page.extract_text() for page in reader.pages if page.extract_text()])\n",
    "    \n",
    "    elif ext == '.txt' or ext == '.md':\n",
    "        with open(file_path, 'r', encoding='utf-8') as f:\n",
    "            return f.read()\n",
    "        \n",
    "    elif ext == '.docx':\n",
    "        doc = Document(file_path)\n",
    "        return \"\\n\".join([para.text for para in doc.paragraphs])\n",
    "    \n",
    "    else:\n",
    "        raise ValueError(f\"Unsupported file type: {ext}\")\n"
   ]
  },
  {
   "cell_type": "code",
   "execution_count": 12,
   "id": "a4a504fb-76a1-44d0-8809-73ab72217ef6",
   "metadata": {},
   "outputs": [],
   "source": [
    "def chunk_text(text, chunk_size=500, overlap=100):\n",
    "    splitter = RecursiveCharacterTextSplitter(\n",
    "        chunk_size=chunk_size,\n",
    "        chunk_overlap=overlap,\n",
    "        separators=[\"\\n\\n\", \"\\n\", \".\", \" \", \"\"]\n",
    "    )\n",
    "    return splitter.split_text(text)\n"
   ]
  },
  {
   "cell_type": "code",
   "execution_count": 13,
   "id": "8de00913-8e70-4d1f-aef4-2eab8d836042",
   "metadata": {},
   "outputs": [
    {
     "name": "stdout",
     "output_type": "stream",
     "text": [
      "Chunk 1:\n",
      "UIN- BAJHLIP23020V012223                                 Global Health Care/ Policy Wordings/Page 1 \n",
      " \n",
      " \n",
      "Bajaj Allianz General Insurance Co. Ltd.                       \n",
      "Bajaj Allianz House, Airport Road, Yerawada, Pune - 411 006. Reg. No.: 113 \n",
      "For more details, log on to: www.bajajallianz.com | E-mail: bagichelp@bajajallianz.co.in or \n",
      "Call at: Sales - 1800 209 0144 / Service - 1800 209 5858 (Toll Free No.) \n",
      "Issuing Office: \n",
      " \n",
      "GLOBAL HEALTH CARE \n",
      " \n",
      " \n",
      "Policy Wordings\n",
      "--------------------------------------------------------------------------------\n",
      "Chunk 2:\n",
      "Issuing Office: \n",
      " \n",
      "GLOBAL HEALTH CARE \n",
      " \n",
      " \n",
      "Policy Wordings \n",
      " \n",
      "UIN- BAJHLIP23020V012223 \n",
      "SECTION A) PREAMBLE \n",
      " \n",
      "Whereas the Insured described in the Policy Schedule hereto (hereinafter called the ‘Insured’  or “Policyholder” or \n",
      "“Insured Person”) has made to Bajaj Allianz General Insurance Company Limited (hereinafter called the “Company” \n",
      "or “Insurer” or “Insurance Company”) a proposal or Proposal as mentioned in the transcript of the Proposal, which\n",
      "--------------------------------------------------------------------------------\n",
      "Chunk 3:\n",
      "shall be the basis of this Contract and is deemed to be incorporated herein, containing certain undertakings , \n",
      "declarations, information/particulars and statements, which is hereby agreed to be the basis of this Contract and be \n",
      "considered as incorporated herein, for the insurance Contract hereinafter contained and has paid the premium \n",
      "specified in the Policy Sche dule hereto as consideration for such insurance Contract, now the Company agrees,\n",
      "--------------------------------------------------------------------------------\n",
      "Chunk 4:\n",
      "subject always to the Policy Schedule and the following terms, conditions, exclusions, and limitations of the Policy, \n",
      "and in excess of the amount of the Deductible/ Co-Payment, to indemnify the Insured in respect of an admissible \n",
      "claim in the manner and to the extent hereinafter stated. \n",
      " \n",
      "SECTION B) DEFINITIONS - STANDARD DEFINITIONS \n",
      "Words or terms mentioned below have the meaning ascribed to them wherever they appear in this Po licy, and\n",
      "--------------------------------------------------------------------------------\n",
      "Chunk 5:\n",
      "references to the singular or to the masculine, include references to the plural or to the feminine wherever the context \n",
      "permits. If any word starts with Capital alphabet but is not defined in the Standard Definitions or Specific Definitions, \n",
      "then such word shall be interpreted as per the headings of the respective clauses/points in these Policy Wordings. \n",
      " \n",
      "1. Accident:- \n",
      "An Accident means sudden, unforeseen and involuntary event caused by external, visible and violent means.\n",
      "--------------------------------------------------------------------------------\n"
     ]
    }
   ],
   "source": [
    "file_path = \"BAJHLIP23020V012223.pdf\"  # change this to your file path\n",
    "raw_text = load_file(file_path)\n",
    "chunks = chunk_text(raw_text)\n",
    "\n",
    "for i, chunk in enumerate(chunks[:5]):\n",
    "    print(f\"Chunk {i+1}:\\n{chunk}\\n{'-'*80}\")"
   ]
  },
  {
   "cell_type": "code",
   "execution_count": 15,
   "id": "a336b412-32e7-412f-8589-2b0032e3df56",
   "metadata": {},
   "outputs": [
    {
     "name": "stdout",
     "output_type": "stream",
     "text": [
      "Total Chunks: 481\n",
      "✅ Saved chunks as chunks.pkl\n"
     ]
    }
   ],
   "source": [
    "print(f\"Total Chunks: {len(chunks)}\")\n",
    "\n",
    "with open(\"chunks.pkl\", \"wb\") as f:\n",
    "    pickle.dump(chunks, f)\n",
    "\n",
    "print(\"✅ Saved chunks as chunks.pkl\")"
   ]
  },
  {
   "cell_type": "code",
   "execution_count": null,
   "id": "503daf6f-4bac-4bd3-ab54-33dc09e88ddb",
   "metadata": {},
   "outputs": [],
   "source": []
  }
 ],
 "metadata": {
  "kernelspec": {
   "display_name": "base",
   "language": "python",
   "name": "python3"
  },
  "language_info": {
   "codemirror_mode": {
    "name": "ipython",
    "version": 3
   },
   "file_extension": ".py",
   "mimetype": "text/x-python",
   "name": "python",
   "nbconvert_exporter": "python",
   "pygments_lexer": "ipython3",
   "version": "3.12.10"
  }
 },
 "nbformat": 4,
 "nbformat_minor": 5
}
